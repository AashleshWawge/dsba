{
 "cells": [
  {
   "cell_type": "code",
   "execution_count": null,
   "id": "d3acd5de",
   "metadata": {},
   "outputs": [],
   "source": [
    "import requests\n",
    "from bs4 import BeautifulSoup as bs\n",
    "import pandas as pd "
   ]
  },
  {
   "cell_type": "code",
   "execution_count": null,
   "id": "d9782e9b",
   "metadata": {},
   "outputs": [],
   "source": [
    "link='https://www.amazon.in/Apple-iPhone-14-128GB-Midnight/product-reviews/B0BDHX8Z63/ref=cm_cr_dp_d_show_all_btm?ie=UTF8&reviewerType=all_reviews' "
   ]
  },
  {
   "cell_type": "code",
   "execution_count": null,
   "id": "78fe3fa3",
   "metadata": {},
   "outputs": [],
   "source": [
    "headers = {\n",
    "    'User-Agent': 'Mozilla/5.0 (Windows NT 6.1) AppleWebKit/537.36 (KHTML, like Gecko) Chrome/41.0.2228.0 Safari/537.36'\n",
    "}\n",
    "\n",
    "page = requests.get(link,headers=headers) "
   ]
  },
  {
   "cell_type": "code",
   "execution_count": null,
   "id": "ac5189c8",
   "metadata": {},
   "outputs": [],
   "source": [
    "page"
   ]
  },
  {
   "cell_type": "code",
   "execution_count": null,
   "id": "552c5b78",
   "metadata": {},
   "outputs": [],
   "source": [
    "soup = bs(page.content,'html.parser') "
   ]
  },
  {
   "cell_type": "code",
   "execution_count": null,
   "id": "0be85734",
   "metadata": {},
   "outputs": [],
   "source": [
    "print(soup.prettify()) "
   ]
  },
  {
   "cell_type": "code",
   "execution_count": null,
   "id": "0f87bd60",
   "metadata": {},
   "outputs": [],
   "source": [
    "names = soup.find_all('span',class_='a-profile-name') "
   ]
  },
  {
   "cell_type": "code",
   "execution_count": null,
   "id": "0dd230c2",
   "metadata": {},
   "outputs": [],
   "source": [
    "names"
   ]
  },
  {
   "cell_type": "code",
   "execution_count": null,
   "id": "06832a79",
   "metadata": {},
   "outputs": [],
   "source": [
    "#Extracting customer names\n",
    "cust_name = []\n",
    "\n",
    "for i in range(len(names)):\n",
    "    cust_name.append(names[i].get_text())\n",
    "\n",
    "cust_name "
   ]
  },
  {
   "cell_type": "code",
   "execution_count": null,
   "id": "7966f1c5",
   "metadata": {},
   "outputs": [],
   "source": [
    "len(cust_name)"
   ]
  },
  {
   "cell_type": "code",
   "execution_count": null,
   "id": "f2a8156a",
   "metadata": {},
   "outputs": [],
   "source": [
    "#Extracting Review title.\n",
    "title = soup.find_all('a',class_='review-title-content') "
   ]
  },
  {
   "cell_type": "code",
   "execution_count": null,
   "id": "29f2e11f",
   "metadata": {
    "scrolled": true
   },
   "outputs": [],
   "source": [
    "title"
   ]
  },
  {
   "cell_type": "code",
   "execution_count": null,
   "id": "7e903f67",
   "metadata": {
    "scrolled": true
   },
   "outputs": [],
   "source": [
    "review_title = []\n",
    "for i in range(0,len(title)):\n",
    "    review_title.append(title[i].get_text())\n",
    "review_title"
   ]
  },
  {
   "cell_type": "code",
   "execution_count": null,
   "id": "26ffafda",
   "metadata": {},
   "outputs": [],
   "source": [
    "review_title[:] = [titles.lstrip('\\n') for titles in review_title]\n",
    "review_title"
   ]
  },
  {
   "cell_type": "code",
   "execution_count": null,
   "id": "a652f257",
   "metadata": {
    "scrolled": false
   },
   "outputs": [],
   "source": [
    "review_title[:] = [titles.rstrip('\\n') for titles in review_title]\n",
    "review_title"
   ]
  },
  {
   "cell_type": "code",
   "execution_count": null,
   "id": "fb256d2d",
   "metadata": {},
   "outputs": [],
   "source": [
    "len(review_title)"
   ]
  },
  {
   "cell_type": "code",
   "execution_count": null,
   "id": "5760841e",
   "metadata": {
    "scrolled": true
   },
   "outputs": [],
   "source": [
    "rating = soup.find_all('i',class_='review-rating')\n",
    "rating"
   ]
  },
  {
   "cell_type": "code",
   "execution_count": null,
   "id": "93402a2a",
   "metadata": {
    "scrolled": false
   },
   "outputs": [],
   "source": [
    "rate = []\n",
    "for i in range(0,len(rating)):\n",
    "    rate.append(rating[i].get_text())\n",
    "rate"
   ]
  },
  {
   "cell_type": "code",
   "execution_count": null,
   "id": "d9066543",
   "metadata": {},
   "outputs": [],
   "source": [
    "len(rate)"
   ]
  },
  {
   "cell_type": "code",
   "execution_count": null,
   "id": "bc7bdd4f",
   "metadata": {
    "scrolled": true
   },
   "outputs": [],
   "source": [
    "review = soup.find_all(\"span\",{\"data-hook\":\"review-body\"})\n",
    "review"
   ]
  },
  {
   "cell_type": "code",
   "execution_count": null,
   "id": "b467f8f9",
   "metadata": {
    "scrolled": true
   },
   "outputs": [],
   "source": [
    "review_content = []\n",
    "for i in range(0,len(review)):\n",
    "    review_content.append(review[i].get_text())\n",
    "review_content"
   ]
  },
  {
   "cell_type": "code",
   "execution_count": null,
   "id": "f67c1500",
   "metadata": {
    "scrolled": true
   },
   "outputs": [],
   "source": [
    "review_content[:] = [reviews.strip('\\n') for reviews in review_content]\n",
    "review_content"
   ]
  },
  {
   "cell_type": "code",
   "execution_count": null,
   "id": "dfd486f0",
   "metadata": {},
   "outputs": [],
   "source": [
    "len(review_content)"
   ]
  },
  {
   "cell_type": "code",
   "execution_count": null,
   "id": "7c2022b8",
   "metadata": {},
   "outputs": [],
   "source": [
    "df = pd.DataFrame()\n",
    "df['Customer Name']=cust_name[:10]\n",
    "df['Review title']=review_title[:10]\n",
    "df['Ratings']=rate[:10]\n",
    "df['Reviews']=review_content[:10] "
   ]
  },
  {
   "cell_type": "code",
   "execution_count": null,
   "id": "2a1fc6da",
   "metadata": {},
   "outputs": [],
   "source": [
    "df.head()"
   ]
  },
  {
   "cell_type": "code",
   "execution_count": null,
   "id": "accbf85c",
   "metadata": {},
   "outputs": [],
   "source": [
    "df.to_csv(r'./reviews.csv',index=True)"
   ]
  },
  {
   "cell_type": "code",
   "execution_count": null,
   "id": "36bbef22",
   "metadata": {},
   "outputs": [],
   "source": []
  }
 ],
 "metadata": {
  "kernelspec": {
   "display_name": "Python 3 (ipykernel)",
   "language": "python",
   "name": "python3"
  },
  "language_info": {
   "codemirror_mode": {
    "name": "ipython",
    "version": 3
   },
   "file_extension": ".py",
   "mimetype": "text/x-python",
   "name": "python",
   "nbconvert_exporter": "python",
   "pygments_lexer": "ipython3",
   "version": "3.9.13"
  }
 },
 "nbformat": 4,
 "nbformat_minor": 5
}
