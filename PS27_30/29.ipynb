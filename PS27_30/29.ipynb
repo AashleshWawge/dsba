{
  "cells": [
    {
      "cell_type": "code",
      "execution_count": null,
      "metadata": {
        "id": "YKVL6QUysutQ"
      },
      "outputs": [],
      "source": [
        "import requests\n",
        "from bs4 import BeautifulSoup as bs\n",
        "import pandas as pd\n",
        "import numpy as np"
      ]
    },
    {
      "cell_type": "code",
      "execution_count": null,
      "metadata": {
        "id": "87YEmgVxs2hp"
      },
      "outputs": [],
      "source": [
        "link = 'https://www.amazon.in/Apple-iPhone-14-128GB-Purple/product-reviews/B0BDJ213TX/ref=cm_cr_dp_d_show_all_btm?ie=UTF8&reviewerType=all_reviews'\n",
        "headers = {\n",
        "    'User-Agent': 'Mozilla/5.0 (Windows NT 6.1) AppleWebKit/537.36 (KHTML, like Gecko) Chrome/41.0.2228.0 Safari/537.36'\n",
        "}\n",
        "\n",
        "page = requests.get(link, headers=headers)\n"
      ]
    },
    {
      "cell_type": "code",
      "execution_count": null,
      "metadata": {
        "colab": {
          "base_uri": "https://localhost:8080/"
        },
        "id": "7GnMDtgetUPk",
        "outputId": "80cdccec-d65e-4e26-d49b-2b3373ce2ce3"
      },
      "outputs": [],
      "source": [
        "page"
      ]
    },
    {
      "cell_type": "code",
      "execution_count": null,
      "metadata": {
        "id": "3RPW0qo0tpLn"
      },
      "outputs": [],
      "source": [
        "soup = bs(page.content, 'html.parser')"
      ]
    },
    {
      "cell_type": "code",
      "execution_count": null,
      "metadata": {
        "colab": {
          "base_uri": "https://localhost:8080/"
        },
        "id": "HjuqwcvLuCtC",
        "outputId": "2e29ea50-b615-41ce-e2b2-b034814f6a3a"
      },
      "outputs": [],
      "source": [
        "print(soup.prettify())"
      ]
    },
    {
      "cell_type": "code",
      "execution_count": null,
      "metadata": {
        "id": "3AHk-B8xu0Lp"
      },
      "outputs": [],
      "source": [
        "names = soup.find_all('span', class_='a-profile-name')"
      ]
    },
    {
      "cell_type": "code",
      "execution_count": null,
      "metadata": {
        "colab": {
          "base_uri": "https://localhost:8080/"
        },
        "id": "xtC5rZg_vGoN",
        "outputId": "aec64d66-8818-4b5e-80f7-071766dc8fcd"
      },
      "outputs": [],
      "source": [
        "names"
      ]
    },
    {
      "cell_type": "code",
      "execution_count": null,
      "metadata": {
        "colab": {
          "base_uri": "https://localhost:8080/"
        },
        "id": "1L6T-dBevJsk",
        "outputId": "d9e4ea62-4f71-4afc-f4da-ecdc7eb6e9d4"
      },
      "outputs": [],
      "source": [
        "cust_name = []\n",
        "\n",
        "for i in range(len(names)):\n",
        "  cust_name.append(names[i].get_text())\n",
        "\n",
        "cust_name"
      ]
    },
    {
      "cell_type": "code",
      "execution_count": null,
      "metadata": {
        "id": "Xy1zofcvvoTf"
      },
      "outputs": [],
      "source": [
        "title = soup.find_all('a', class_='review-title-content')"
      ]
    },
    {
      "cell_type": "code",
      "execution_count": null,
      "metadata": {
        "colab": {
          "base_uri": "https://localhost:8080/"
        },
        "id": "4O1SYXVTvxp7",
        "outputId": "52123834-ca24-4277-da0f-4c0f13c060cc"
      },
      "outputs": [],
      "source": [
        "title"
      ]
    },
    {
      "cell_type": "code",
      "execution_count": null,
      "metadata": {
        "colab": {
          "base_uri": "https://localhost:8080/"
        },
        "id": "-DXjspjovyh3",
        "outputId": "2a699eb9-c26a-4854-895d-3f91ea864a9c"
      },
      "outputs": [],
      "source": [
        "review_title = []\n",
        "for i in range(0,len(title)):\n",
        "    review_title.append(title[i].get_text())\n",
        "review_title"
      ]
    },
    {
      "cell_type": "code",
      "execution_count": null,
      "metadata": {
        "colab": {
          "base_uri": "https://localhost:8080/"
        },
        "id": "ug7lIHTKv1FH",
        "outputId": "a2728fcc-5c2f-4752-e0ab-5bab000a6908"
      },
      "outputs": [],
      "source": [
        "review_title[:] = [titles.lstrip('\\n') for titles in review_title]\n",
        "review_title"
      ]
    },
    {
      "cell_type": "code",
      "execution_count": null,
      "metadata": {
        "colab": {
          "base_uri": "https://localhost:8080/"
        },
        "id": "kOAWZP05v5yO",
        "outputId": "1c0d2d83-8ab5-46c9-a541-a590271cd18b"
      },
      "outputs": [],
      "source": [
        "review_title[:] = [titles.rstrip('\\n') for titles in review_title]\n",
        "review_title"
      ]
    },
    {
      "cell_type": "code",
      "execution_count": null,
      "metadata": {
        "colab": {
          "base_uri": "https://localhost:8080/"
        },
        "id": "fwIZzEgvv9Ti",
        "outputId": "1178aaf5-3cb7-4cec-8861-88f8a7955a12"
      },
      "outputs": [],
      "source": [
        "len(review_title)"
      ]
    },
    {
      "cell_type": "code",
      "execution_count": null,
      "metadata": {
        "colab": {
          "base_uri": "https://localhost:8080/"
        },
        "id": "yuBqmbofwIoy",
        "outputId": "ce7b1269-f4c7-4831-df91-acdacb715c03"
      },
      "outputs": [],
      "source": [
        "rating = soup.find_all('i',class_='review-rating')\n",
        "rating"
      ]
    },
    {
      "cell_type": "code",
      "execution_count": null,
      "metadata": {
        "colab": {
          "base_uri": "https://localhost:8080/"
        },
        "id": "xT4jozzmwKsm",
        "outputId": "ef7b6dfc-f044-4c49-f993-838874c690a5"
      },
      "outputs": [],
      "source": [
        "rate = []\n",
        "for i in range(0,len(rating)):\n",
        "    rate.append(rating[i].get_text())\n",
        "rate"
      ]
    },
    {
      "cell_type": "code",
      "execution_count": null,
      "metadata": {
        "colab": {
          "base_uri": "https://localhost:8080/"
        },
        "id": "HactYgLnwNfW",
        "outputId": "2d73edfb-b694-4b68-8a94-7c196a39b666"
      },
      "outputs": [],
      "source": [
        "len(rate)"
      ]
    },
    {
      "cell_type": "code",
      "execution_count": null,
      "metadata": {
        "colab": {
          "base_uri": "https://localhost:8080/"
        },
        "id": "ln0AQfsqwP-q",
        "outputId": "35d76fb7-8051-4c03-c615-dd9d0e485947"
      },
      "outputs": [],
      "source": [
        "review = soup.find_all(\"span\",{\"data-hook\":\"review-body\"})\n",
        "review"
      ]
    },
    {
      "cell_type": "code",
      "execution_count": null,
      "metadata": {
        "colab": {
          "base_uri": "https://localhost:8080/"
        },
        "id": "HLJrkw0XwSAW",
        "outputId": "bc9d8b14-cbf6-4188-b410-7419688c9d65"
      },
      "outputs": [],
      "source": [
        "review_content = []\n",
        "for i in range(0,len(review)):\n",
        "    review_content.append(review[i].get_text())\n",
        "review_content"
      ]
    },
    {
      "cell_type": "code",
      "execution_count": null,
      "metadata": {
        "colab": {
          "base_uri": "https://localhost:8080/"
        },
        "id": "L_scyBg1wYZW",
        "outputId": "8dcd88f8-53c5-481e-be35-00f8bc9254f8"
      },
      "outputs": [],
      "source": [
        "review_content[:] = [reviews.strip('\\n') for reviews in review_content]\n",
        "review_content"
      ]
    },
    {
      "cell_type": "code",
      "execution_count": null,
      "metadata": {
        "colab": {
          "base_uri": "https://localhost:8080/"
        },
        "id": "Rfs3jvn2wbmy",
        "outputId": "b9d5239d-11b9-46a4-986a-59928806374b"
      },
      "outputs": [],
      "source": [
        "len(review_content)"
      ]
    },
    {
      "cell_type": "code",
      "execution_count": null,
      "metadata": {
        "id": "7dtaCFNqwic5"
      },
      "outputs": [],
      "source": [
        "df = pd.DataFrame()\n",
        "df['Customer Name']=cust_name[:10]\n",
        "df['Review title']=review_title[:10]\n",
        "df['Ratings']=rate[:10]\n",
        "df['Reviews']=review_content[:10]"
      ]
    },
    {
      "cell_type": "code",
      "execution_count": null,
      "metadata": {
        "id": "tPBIBL3Rwk6d"
      },
      "outputs": [],
      "source": [
        "df.to_csv(r'./reviews.csv', index=True)"
      ]
    }
  ],
  "metadata": {
    "colab": {
      "provenance": []
    },
    "kernelspec": {
      "display_name": "Python 3",
      "name": "python3"
    },
    "language_info": {
      "name": "python",
      "version": "3.9.7"
    }
  },
  "nbformat": 4,
  "nbformat_minor": 0
}
